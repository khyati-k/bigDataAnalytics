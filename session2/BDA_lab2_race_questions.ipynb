{
<<<<<<< HEAD:session2/BDA_Race_lab_questions.ipynb
=======
  "nbformat": 4,
  "nbformat_minor": 0,
  "metadata": {
    "colab": {
      "provenance": []
    },
    "kernelspec": {
      "name": "python3",
      "display_name": "Python 3"
    },
    "language_info": {
      "name": "python"
    }
  },
>>>>>>> dcbc04efad3874df150674e4c5dba26e2fee3b38:session2/BDA_lab2_race_questions.ipynb
  "cells": [
    {
      "cell_type": "markdown",
      "metadata": {
        "id": "_IVCQrrG1xkk"
      },
      "source": [
        "# BDA Lab 2"
      ]
    },
    {
      "cell_type": "markdown",
      "metadata": {
        "id": "okWxV7hrqj-s"
      },
      "source": [
        "### In this race lab you are not allowed to use any built-in Python functions like `len`, `sum`, `max`, `range` etc. 😀\n",
        "\n",
        "You can create your own supporting functions, if necessary."
      ]
    },
    {
      "cell_type": "markdown",
      "metadata": {
        "id": "lKEbiyJt9IvF"
      },
      "source": [
        "**🔉 This lab is a timed race, which means we will proceed through this tutorial together during the lab session, using a timer.**"
      ]
    },
    {
      "cell_type": "markdown",
      "metadata": {
        "id": "e8mHcvymzhit"
      },
      "source": [
        "# Warmup group 1"
      ]
    },
    {
      "cell_type": "markdown",
      "metadata": {
        "id": "ggtxr1d9dgPN"
      },
      "source": [
        "**Warmup 1**\n",
        "\n",
        "Create a list and print all its elements.\n",
        "\n",
        "`alist = [-10,-5,0,4,9]`\n"
      ]
    },
    {
      "cell_type": "code",
      "execution_count": null,
      "metadata": {
        "colab": {
          "base_uri": "https://localhost:8080/"
        },
        "id": "IEqHsNQOdrls",
        "outputId": "8c59f384-04d6-47d7-ecb4-b715bec0f364"
      },
      "outputs": [
        {
          "name": "stdout",
          "output_type": "stream",
          "text": [
            "-10\n",
            "-5\n",
            "0\n",
            "4\n",
            "9\n"
          ]
        }
      ],
      "source": [
        "# Provide your solution here\n",
        "\n",
        "alist = [-10,-5,0,4,9]\n"
      ]
    },
    {
      "cell_type": "markdown",
      "metadata": {
        "id": "1iPPFTJEeBUp"
      },
      "source": [
        "> What are the time and space complexities?\n",
        ">\n",
        "> Time: ? O(n)\n",
        ">\n",
        "> Space: ? (1)"
      ]
    },
    {
      "cell_type": "markdown",
      "metadata": {
        "id": "0odD6c_TqNt5"
      },
      "source": [
        "**Warmup 2** - redo\n",
        "\n",
        "Print the index numbers of the list.\n",
        "alist = [-10,-5,0,4,9]"
      ]
    },
    {
      "cell_type": "code",
      "execution_count": null,
      "metadata": {
        "colab": {
          "base_uri": "https://localhost:8080/"
        },
        "id": "0s6V0k1rqV29",
        "outputId": "14a1c80a-e88b-4838-e86f-1c910c7bb907"
      },
      "outputs": [
        {
          "name": "stdout",
          "output_type": "stream",
          "text": [
            "0\n",
            "1\n",
            "2\n",
            "3\n",
            "4\n"
          ]
        }
      ],
      "source": [
        "# Provide your solution here\n",
        "\n",
        "alist = [-10,-5,0,4,9]\n"
      ]
    },
    {
      "cell_type": "markdown",
      "metadata": {
        "id": "mZxfViIpdu8U"
      },
      "source": [
        "**Warmup 3**\n",
        "\n",
        "Create a list and print only the positive numbers or zeros.\n",
        "\n",
        "`alist = [-10,-5,0,4,9]`\n",
        "\n"
      ]
    },
    {
      "cell_type": "code",
      "execution_count": null,
      "metadata": {
        "colab": {
          "base_uri": "https://localhost:8080/"
        },
        "id": "cuNwQtzSeFUv",
        "outputId": "306c8419-0cbc-4dec-fba0-7e9444c59bf2"
      },
      "outputs": [
        {
          "name": "stdout",
          "output_type": "stream",
          "text": [
            "0\n",
            "4\n",
            "9\n"
          ]
        }
      ],
      "source": [
        "# Provide your solution here\n",
        "\n",
        "alist = [-10,-5,0,4,9]\n"
      ]
    },
    {
      "cell_type": "markdown",
      "metadata": {
        "id": "mI7XjasgeJ0k"
      },
      "source": [
        "> What are the time and space complexities?\n",
        ">\n",
        "> Time: ? O(n)\n",
        ">\n",
        "> Space: ? O(1)"
      ]
    },
    {
      "cell_type": "markdown",
      "metadata": {
        "id": "o2AvqWP6ePLm"
      },
      "source": [
        "**Warmup 4**\n",
        "\n",
        "Export the positive numbers or zeros into a new list.\n",
        "\n",
        "`alist = [-10,-5,0,4,9]`"
      ]
    },
    {
      "cell_type": "code",
      "execution_count": null,
      "metadata": {
        "colab": {
          "base_uri": "https://localhost:8080/"
        },
        "id": "HpydkJpweUVX",
        "outputId": "befb1af9-a693-46b2-e303-7b5cc270c680"
      },
      "outputs": [
        {
          "name": "stdout",
          "output_type": "stream",
          "text": [
            "[0, 4, 9]\n"
          ]
        }
      ],
      "source": [
        "# Provide your solution here\n",
        "\n",
        "alist = [-10,-5,0,4,9]\n",
        "\n"
      ]
    },
    {
      "cell_type": "markdown",
      "metadata": {
        "id": "XBW9BFa_eaoV"
      },
      "source": [
        "> What are the time and space complexities?\n",
        ">\n",
        "> Time: ? O(n)\n",
        ">\n",
        "> Space: ? O(n)"
      ]
    },
    {
      "cell_type": "markdown",
      "metadata": {
        "id": "2WCH2fNYfSmh"
      },
      "source": [
        "**Warmup 5**\n",
        "\n",
        "Find the average of a list of integers.\n",
        "* `alist = [-10,-5,0,4,9]`"
      ]
    },
    {
      "cell_type": "code",
      "execution_count": 1,
      "metadata": {
        "colab": {
          "base_uri": "https://localhost:8080/"
        },
        "id": "YVg-3buRfXy3",
        "outputId": "7be5d5a8-1187-4f9e-b38e-e2ac2fbcfbb8"
      },
<<<<<<< HEAD:session2/BDA_Race_lab_questions.ipynb
=======
      "execution_count": null,
>>>>>>> dcbc04efad3874df150674e4c5dba26e2fee3b38:session2/BDA_lab2_race_questions.ipynb
      "outputs": [
        {
          "name": "stdout",
          "output_type": "stream",
          "text": [
            "-0.4\n"
          ]
        }
      ],
      "source": [
        "# Provide your solution here\n",
        "\n",
        "alist = [-10,-5,0,4,9]\n"
      ]
    },
    {
      "cell_type": "markdown",
      "metadata": {
        "id": "y9JwlsIygz1a"
      },
      "source": [
        "> What are the time and space complexities?\n",
        ">\n",
        "> Time: ? o(n)\n",
        ">\n",
        "> Space: ? o(1)"
      ]
    },
    {
      "cell_type": "markdown",
      "metadata": {
        "id": "t7DrWe2QtkJt"
      },
      "source": [
        "**Warmup 6**"
      ]
    },
    {
      "cell_type": "markdown",
      "metadata": {
        "id": "CylHqpsvhEoL"
      },
      "source": [
        "Find the max of a sorted list of positive integers."
      ]
    },
    {
      "cell_type": "code",
<<<<<<< HEAD:session2/BDA_Race_lab_questions.ipynb
      "execution_count": null,
=======
      "source": [
        "# Provide your solution here\n",
        "\n",
        "alist = [4,6,8,10]\n",
        "\n"
      ],
>>>>>>> dcbc04efad3874df150674e4c5dba26e2fee3b38:session2/BDA_lab2_race_questions.ipynb
      "metadata": {
        "colab": {
          "base_uri": "https://localhost:8080/"
        },
        "id": "lbB8xeudhT14",
        "outputId": "6ca8f203-76d4-4146-e089-a231b58fbbb0"
      },
<<<<<<< HEAD:session2/BDA_Race_lab_questions.ipynb
      "outputs": [
        {
          "name": "stdout",
          "output_type": "stream",
          "text": [
            "9\n"
          ]
=======
      "execution_count": 3,
      "outputs": [
        {
          "output_type": "execute_result",
          "data": {
            "text/plain": [
              "10"
            ]
          },
          "metadata": {},
          "execution_count": 3
>>>>>>> dcbc04efad3874df150674e4c5dba26e2fee3b38:session2/BDA_lab2_race_questions.ipynb
        }
      ],
      "source": [
        "# Provide your solution here\n",
        "\n"
      ]
    },
    {
      "cell_type": "markdown",
      "metadata": {
        "id": "I9Z-dP5mhb0C"
      },
      "source": [
        "> What are the time and space complexities?\n",
        ">\n",
        "> Time: ?\n",
        ">\n",
        "> Space: ?"
      ]
    },
    {
      "cell_type": "markdown",
      "metadata": {
        "id": "cbNecGo2haCm"
      },
      "source": [
        "**Warmup 7**"
      ]
    },
    {
      "cell_type": "markdown",
      "metadata": {
        "id": "0ontsTzOtoL9"
      },
      "source": [
        "Find the max of a list of positive integers."
      ]
    },
    {
      "cell_type": "code",
<<<<<<< HEAD:session2/BDA_Race_lab_questions.ipynb
      "execution_count": null,
=======
      "source": [
        "# Provide your solution here\n",
        "\n",
        "# def findMax(alist):\n",
        "# ...\n",
        "\n",
        "alist = [4,6,8,10]\n",
        "findMax(alist)"
      ],
>>>>>>> dcbc04efad3874df150674e4c5dba26e2fee3b38:session2/BDA_lab2_race_questions.ipynb
      "metadata": {
        "colab": {
          "base_uri": "https://localhost:8080/"
        },
        "id": "DmGUvutDtnBT",
        "outputId": "140ce8ca-8597-4f25-f005-0785f8711561"
      },
      "outputs": [
        {
          "name": "stdout",
          "output_type": "stream",
          "text": [
            "10\n"
          ]
        }
      ],
      "source": [
        "# Provide your solution here\n",
        "\n"
      ]
    },
    {
      "cell_type": "markdown",
      "metadata": {
        "id": "EVG4qkSbg6tH"
      },
      "source": [
        "> What are the time and space complexities?\n",
        ">\n",
        "> Time: ? O(n)\n",
        ">\n",
        "> Space: ? O(1)"
      ]
    },
    {
      "cell_type": "markdown",
      "metadata": {
        "id": "3QAw6qes0Y4m"
      },
      "source": [
        "# Exercises group 1"
      ]
    },
    {
      "cell_type": "markdown",
      "metadata": {
        "id": "aCya2f4nfFJU"
      },
      "source": [
        "**E1.1**\n",
        "\n",
        "Print the list in reverse order.\n",
        "\n",
        "`alist = [-10,-5,0,4,9]`"
      ]
    },
    {
      "cell_type": "code",
      "execution_count": null,
      "metadata": {
        "colab": {
          "base_uri": "https://localhost:8080/"
        },
        "id": "h4hV5c_1fFpF",
        "outputId": "279cbc7a-df64-4046-8033-64c60906c163"
      },
      "outputs": [
        {
          "name": "stdout",
          "output_type": "stream",
          "text": [
            "9\n",
            "4\n",
            "0\n",
            "-5\n",
            "-10\n"
          ]
        }
      ],
      "source": [
        "# Provide your solution here\n",
        "\n",
        "alist = [-10,-5,0,4,9]\n",
        "count = 0\n",
        "   for element in alist:\n",
        "        count += 1\n",
        "        print(alist[-count])\n"
      ]
    },
    {
      "cell_type": "markdown",
      "metadata": {
        "id": "L1xCDxwlftmB"
      },
      "source": [
        "> What are the time and space complexities?\n",
        ">\n",
        "> Time: ? o(n)\n",
        ">\n",
        "> Space: ? o(1)"
      ]
    },
    {
      "cell_type": "markdown",
      "metadata": {
        "id": "dBxq9Pvmednh"
      },
      "source": [
        "**E1.2**\n",
        "\n",
        "Remove the negative numbers of a list.\n",
        "\n",
        "`alist = [-10,-5,0,4,9]`"
      ]
    },
    {
      "cell_type": "markdown",
      "metadata": {
        "id": "0iXe11dTxO0l"
      },
      "source": [
        "For this task you can use the following script:\n",
        "\n",
        "`for i in range(len(alist) - 1, -1, -1):`"
      ]
    },
    {
      "cell_type": "code",
      "execution_count": null,
      "metadata": {
        "colab": {
          "base_uri": "https://localhost:8080/"
        },
        "id": "qAI5cn9beikC",
        "outputId": "0744a255-2c0f-4075-ce1f-00a4a6d4ffa2"
      },
      "outputs": [
        {
          "name": "stdout",
          "output_type": "stream",
          "text": [
            "[4, 9]\n"
          ]
        }
      ],
      "source": [
        "# Provide your solution here\n",
        "alist = [-10,-5,0,4,9]\n",
        "\n",
        "# i is the index..\n",
        "# for i in range(len(alist) - 1, -1, -1):\n",
        "for i in range(len(alist) - 1, -1, -1):\n",
        "    if(alist[i] < 0):\n",
        "        del alist[i]\n",
        "    print(alist)\n"
      ]
    },
    {
      "cell_type": "markdown",
      "metadata": {
        "id": "FmQoNhqkfwHg"
      },
      "source": [
        "> What are the time and space complexities?\n",
        ">\n",
        "> Time: ? O(n)\n",
        ">\n",
        "> Space: ? o(1)"
      ]
    },
    {
      "cell_type": "markdown",
      "metadata": {
        "id": "aqb6XG7YhB9v"
      },
      "source": [
        "**E1.3**\n",
        "\n",
        "Write a program that prompts the user to enter a password.\n",
        "\n",
        "If the password is incorrect, keep prompting the user until they enter the correct password.\n",
        "\n",
        "* The correct password is `secret`."
      ]
    },
    {
      "cell_type": "code",
      "execution_count": null,
      "metadata": {
        "colab": {
          "base_uri": "https://localhost:8080/"
        },
        "id": "oHrAsC2NhCTp",
        "outputId": "fbc2f42f-b5ad-454f-cdfc-4d12cb1d6270"
      },
      "outputs": [
        {
          "name": "stdout",
          "output_type": "stream",
          "text": [
            "Enter the password: secret\n",
            "Password accepted!\n"
          ]
        }
      ],
      "source": [
        "# Provide your solution here\n"
      ]
    },
    {
      "cell_type": "markdown",
      "metadata": {
        "id": "D_RCzEX6hzqw"
      },
      "source": [
        "> What are the time and space complexities? irrelevant \n",
        ">\n",
        "> Time: ?\n",
        ">\n",
        "> Space: ?"
      ]
    },
    {
      "cell_type": "markdown",
      "metadata": {
        "id": "K99nLvGCfxm1"
      },
      "source": [
        "**E1.4**\n",
        "\n",
        "Reverse elements of list.\n",
        "* `alist = [1,4,7,8]`\n",
        "\n",
<<<<<<< HEAD:session2/BDA_Race_lab_questions.ipynb
        "You have to create your `mylen` function for this task.\n",
        "\n",
        "!Hack\n",
        "\n",
        "* Create two pointers, one at 0 index and one at index 3.\n",
        "* Increase the first index while reducing the second index at each iteration to achieve swappings.\n",
        "* This will allow to use: time O(n) and space O(1)."
      ]
=======
        "You have to create your own `mylen` function for this task."
      ],
      "metadata": {
        "id": "K99nLvGCfxm1"
      }
>>>>>>> dcbc04efad3874df150674e4c5dba26e2fee3b38:session2/BDA_lab2_race_questions.ipynb
    },
    {
      "cell_type": "code",
      "execution_count": null,
      "metadata": {
        "colab": {
          "base_uri": "https://localhost:8080/"
        },
        "id": "t_cd88nKgRUd",
        "outputId": "5388f9f4-6d17-4407-c227-63072c1a7579"
      },
      "outputs": [
        {
          "name": "stdout",
          "output_type": "stream",
          "text": [
            "[8, 7, 4, 1]\n"
          ]
        }
      ],
      "source": [
        "# Provide your solution here\n",
        "\n",
        "alist = [1,4,7,8]\n",
        "\n"
      ]
    },
    {
      "cell_type": "markdown",
      "metadata": {
        "id": "a216pdF635_c"
      },
      "source": [
        "##### Can you do it with time O(n) and space O(1)"
      ]
    },
    {
      "cell_type": "code",
      "execution_count": null,
      "metadata": {
        "id": "1QP6xOQ_4B4P"
      },
      "outputs": [],
      "source": [
        "# Provide your solution here\n",
        "\n",
        "alist = [1,4,7,8]\n"
      ]
    },
    {
      "cell_type": "markdown",
      "metadata": {
        "id": "i1PKZR_T4COE"
      },
      "source": [
        "> **Hack** 🤔\n",
        ">\n",
        "> Create two pointers, one at 0 index and one at index 3.\n",
        "> Increase the first index while reducing the second index  at each iteration to achieve swappings.\n",
        ">\n",
        "> This will allow to use: time O(n) and space O(1)."
      ]
    },
    {
      "cell_type": "markdown",
      "metadata": {
        "id": "lcFbzckV0rh0"
      },
      "source": [
        "# Exercises group 2"
      ]
    },
    {
      "cell_type": "markdown",
      "metadata": {
        "id": "topkBl4uUsBm"
      },
      "source": [
        "**E2.1**\n",
        "\n",
        "Create a script to search a list for a specific key.\n",
        "- Print `True` and stop the search upon first occurrence of the key.\n",
        "- Otherwise, print `False`.\n",
        "- Print only once at the end."
      ]
    },
    {
      "cell_type": "code",
      "execution_count": null,
      "metadata": {
        "colab": {
          "base_uri": "https://localhost:8080/"
        },
        "id": "mLJSFNOlUoY1",
        "outputId": "5d9be73e-d375-4153-a4d1-3a16772e7530"
      },
      "outputs": [
        {
          "name": "stdout",
          "output_type": "stream",
          "text": [
            "False\n"
          ]
        }
      ],
      "source": [
        "# Provide your solution here\n",
        "\n",
        "alist = [10,20,30,40,50,60,70,80,90]\n",
        "key = 140\n",
        "\n",
        "# Provide your solution here\n",
        "\n"
      ]
    },
    {
      "cell_type": "markdown",
      "metadata": {
        "id": "VbvDawQSW53z"
      },
      "source": [
        "> What are the time and space complexities?\n",
        ">\n",
        "> Time: ?\n",
        ">\n",
        "> Space: ?"
      ]
    },
    {
      "cell_type": "markdown",
      "metadata": {
        "id": "lkcifAIQV1k-"
      },
      "source": [
        "**E2.2**\n",
        "\n",
        "Create a function called `linearSearch` that accepts two arguments:\n",
        "- A list to search\n",
        "- A key to find\n",
        "- Return True or False at the end."
      ]
    },
    {
      "cell_type": "code",
      "execution_count": null,
      "metadata": {
        "colab": {
          "base_uri": "https://localhost:8080/"
        },
        "id": "-urVywLJV1Hz",
        "outputId": "9f0f9d50-0fe1-4e5c-ed05-a3476a684057"
      },
      "outputs": [
        {
          "name": "stdout",
          "output_type": "stream",
          "text": [
            "True\n",
            "False\n"
          ]
        }
      ],
      "source": [
        "# Provide your solution here\n",
        "\n",
        "# def linearSearch(arr,key):\n",
        "# ...\n",
        "\n",
        "print(linearSearch(alist,40))\n",
        "print(linearSearch(alist,140))"
      ]
    },
    {
      "cell_type": "markdown",
      "metadata": {
        "id": "71U7Uq1nWWjG"
      },
      "source": [
        "**E2.3**\n",
        "\n",
        "Create a script to search a list for a specific key.\n",
        "- Print the index of the first key\n",
        "- stop the search upon first occurrence of the key.\n",
        "- Otherwise, print `-1`.\n",
        "- Print only once at the end.\n",
        "- Try for both key1=40 and key2=140"
      ]
    },
    {
      "cell_type": "code",
      "execution_count": 4,
      "metadata": {
        "colab": {
          "base_uri": "https://localhost:8080/"
        },
        "id": "Gd7R7LtfWVlp",
        "outputId": "0b626410-0f8b-45e8-cfef-748b2190dad7"
      },
      "outputs": [
        {
          "name": "stdout",
          "output_type": "stream",
          "text": [
            "3\n",
            "-1\n"
          ]
        }
      ],
      "source": [
        "# Provide your solution here\n",
        "\n",
        "alist = [10,20,30,40,50,60,70,80,90]\n",
        "key1=40\n",
        "key2=140\n",
        "\n",
        "# def search_key_index(alist,key):\n",
        "# ...\n",
        "\n",
        "print(search_key_index(alist,key1))\n",
        "print(search_key_index(alist,key2))"
<<<<<<< HEAD:session2/BDA_Race_lab_questions.ipynb
=======
      ],
      "metadata": {
        "colab": {
          "base_uri": "https://localhost:8080/"
        },
        "id": "Gd7R7LtfWVlp",
        "outputId": "25877988-aca4-48a4-99aa-ea52e28210fc"
      },
      "execution_count": 4,
      "outputs": [
        {
          "output_type": "stream",
          "name": "stdout",
          "text": [
            "3\n",
            "-1\n"
          ]
        }
>>>>>>> dcbc04efad3874df150674e4c5dba26e2fee3b38:session2/BDA_lab2_race_questions.ipynb
      ]
    },
    {
      "cell_type": "markdown",
      "metadata": {
        "id": "7oAhyhRPW9H7"
      },
      "source": [
        "> What are the time and space complexities?\n",
        ">\n",
        "> Time: ?\n",
        ">\n",
        "> Space: ?"
      ]
    },
    {
      "cell_type": "markdown",
      "metadata": {
        "id": "aiXnNdinXI0j"
      },
      "source": [
        "**E2.4** 15 mins todo\n",
        "\n",
        "Create a script to search a list for a specific key.\n",
        "- Return all the indicies of the keys in the list.\n",
        "- Otherwise, return -1.\n",
        "- Try for both key1=40 and key2=140"
      ]
    },
    {
      "cell_type": "code",
      "execution_count": 13,
      "metadata": {
        "colab": {
          "base_uri": "https://localhost:8080/"
        },
        "id": "eha__3trXZAu",
        "outputId": "65c59651-3b6a-41df-f070-6fceaaf82552"
      },
      "outputs": [
        {
          "name": "stdout",
          "output_type": "stream",
          "text": [
            "[1, 2]\n",
            "-1\n"
          ]
        }
      ],
      "source": [
        "# Provide your solution here\n",
        "\n",
        "alist = [10,40,40,60]\n",
        "key1 = 40\n",
        "key2 = 140\n",
        "\n",
        "# def searchKeys(alist,key):\n",
        "# ...\n",
        "\n",
        "print(searchKeys(alist,key1))\n",
        "print(searchKeys(alist,key2))"
<<<<<<< HEAD:session2/BDA_Race_lab_questions.ipynb
=======
      ],
      "metadata": {
        "colab": {
          "base_uri": "https://localhost:8080/"
        },
        "id": "eha__3trXZAu",
        "outputId": "65c59651-3b6a-41df-f070-6fceaaf82552"
      },
      "execution_count": null,
      "outputs": [
        {
          "output_type": "stream",
          "name": "stdout",
          "text": [
            "[1, 2]\n",
            "-1\n"
          ]
        }
>>>>>>> dcbc04efad3874df150674e4c5dba26e2fee3b38:session2/BDA_lab2_race_questions.ipynb
      ]
    },
    {
      "cell_type": "markdown",
      "metadata": {
        "id": "pSAtfG2fYvac"
      },
      "source": [
        "> What are the time and space complexities?\n",
        ">\n",
        "> Time: ?\n",
        ">\n",
        "> Space: ?"
      ]
    },
    {
      "cell_type": "markdown",
      "metadata": {
        "id": "OAgfHa4OYdcc"
      },
      "source": [
        "**E2.5**\n",
        "\n",
        "Create a function called `countKeys` to count how many times a key appears in a list.\n",
        "- Return the results in the form `{key:value}`. For example `{40:2}`, means key 40 exists 2 times."
      ]
    },
    {
      "cell_type": "code",
<<<<<<< HEAD:session2/BDA_Race_lab_questions.ipynb
      "execution_count": null,
=======
      "source": [
        "# Provide your solution here\n",
        "\n",
        "alist = [10,10,20,40,40,50]\n",
        "key1=40\n",
        "\n",
        "# def countKeys(alist,key):\n",
        "# ...\n",
        "\n",
        "countKeys(alist,key1)\n"
      ],
>>>>>>> dcbc04efad3874df150674e4c5dba26e2fee3b38:session2/BDA_lab2_race_questions.ipynb
      "metadata": {
        "colab": {
          "base_uri": "https://localhost:8080/"
        },
        "id": "8Sth5sBRYiS7",
        "outputId": "a8d33a95-9681-4224-d37a-95107a8e0298"
      },
<<<<<<< HEAD:session2/BDA_Race_lab_questions.ipynb
=======
      "execution_count": 5,
>>>>>>> dcbc04efad3874df150674e4c5dba26e2fee3b38:session2/BDA_lab2_race_questions.ipynb
      "outputs": [
        {
          "data": {
            "text/plain": [
              "{40: 2}"
            ]
          },
          "execution_count": 24,
          "metadata": {},
<<<<<<< HEAD:session2/BDA_Race_lab_questions.ipynb
          "output_type": "execute_result"
=======
          "execution_count": 5
>>>>>>> dcbc04efad3874df150674e4c5dba26e2fee3b38:session2/BDA_lab2_race_questions.ipynb
        }
      ],
      "source": [
        "# Provide your solution here\n",
        "\n"
      ]
    },
    {
      "cell_type": "markdown",
      "metadata": {
        "id": "qwRyi6ERaSuI"
      },
      "source": [
        "**E2.6**\n",
        "\n",
        "Create a script to swap two elements of a list.\n",
        "- The user will provide you a list and the two index values to swap.\n",
        "- Swap in place.\n",
        "\n",
        "For example:\n",
        "* [10,20,30,40]\n",
        "* index 1 = 0\n",
        "* index 2 = 3\n",
        "* Return [40,20,30,10]"
      ]
    },
    {
      "cell_type": "code",
      "execution_count": null,
      "metadata": {
        "colab": {
          "base_uri": "https://localhost:8080/"
        },
        "id": "BnZue29ubFTo",
        "outputId": "bea8377c-d677-483c-895d-f22df592c4f0"
      },
      "outputs": [
        {
          "data": {
            "text/plain": [
              "[40, 20, 30, 10]"
            ]
          },
          "execution_count": 36,
          "metadata": {},
          "output_type": "execute_result"
        }
      ],
      "source": [
        "# Provide your solution here\n",
        "\n",
        "# def swapElementsIndex(alist, index1, index2):\n",
        "# ...\n",
        "\n",
        "swapElementsIndex([10,20,30,40], 0,3)"
      ]
    },
    {
      "cell_type": "markdown",
      "metadata": {
        "id": "w39eu3mlbbOT"
      },
      "source": [
        "What are the time and space complexity?"
      ]
    },
    {
      "cell_type": "markdown",
      "metadata": {
        "id": "yDRrYlp5beUh"
      },
      "source": [
        "> What are the time and space complexities?\n",
        ">\n",
        "> Time: ?\n",
        ">\n",
        "> Space: ?"
      ]
    },
    {
      "cell_type": "markdown",
      "metadata": {
        "id": "cv3us4jYZG5L"
      },
      "source": [
        "**E2.7**\n",
        "\n",
        "Create a script to swap two elements of a list.\n",
        "- Swap only if both elements exist in the list.\n",
        "- The user will provide you a list and the two keys to search.\n",
        "\n",
        "For example:\n",
        "* [10,20,30,40]\n",
        "* key 1 = 10\n",
        "* key 2 = 40\n",
        "* Return [40,20,30,10]"
      ]
    },
    {
      "cell_type": "code",
      "execution_count": 16,
      "metadata": {
        "colab": {
          "base_uri": "https://localhost:8080/"
        },
        "id": "VhFbMdjMZZIH",
        "outputId": "535e4e50-47dd-4db0-9031-0555d6618263"
      },
      "outputs": [
        {
          "name": "stdout",
          "output_type": "stream",
          "text": [
            "[30, 20, 10, 40]\n",
            "[40, 20, 30, 10]\n",
            "[10, 20, 30, 40]\n"
          ]
        }
      ],
      "source": [
        "# Provide your solution here\n",
        "\n",
        "# def swapElementsKeys(alist, key1, key2):\n",
        "# ...\n",
        "\n",
        "print(swapElementsKeys([10,20,30,40], 10,30))\n",
        "print(swapElementsKeys([10,20,30,40], 10,40))\n",
        "print(swapElementsKeys([10,20,30,40], 1,40))"
<<<<<<< HEAD:session2/BDA_Race_lab_questions.ipynb
=======
      ],
      "metadata": {
        "colab": {
          "base_uri": "https://localhost:8080/"
        },
        "id": "VhFbMdjMZZIH",
        "outputId": "535e4e50-47dd-4db0-9031-0555d6618263"
      },
      "execution_count": null,
      "outputs": [
        {
          "output_type": "stream",
          "name": "stdout",
          "text": [
            "[30, 20, 10, 40]\n",
            "[40, 20, 30, 10]\n",
            "[10, 20, 30, 40]\n"
          ]
        }
>>>>>>> dcbc04efad3874df150674e4c5dba26e2fee3b38:session2/BDA_lab2_race_questions.ipynb
      ]
    },
    {
      "cell_type": "markdown",
      "metadata": {
        "id": "scgLT94IaOnk"
      },
      "source": [
        "What are the time and space complexity?"
      ]
    },
    {
      "cell_type": "markdown",
      "metadata": {
        "id": "oLz_-jK8aRxL"
      },
      "source": [
        "> What are the time and space complexities?\n",
        ">\n",
        "> Time: ?\n",
        ">\n",
        "> Space: ?"
      ]
    },
    {
      "cell_type": "markdown",
      "metadata": {
        "id": "tiTk44nPbpXe"
      },
      "source": [
        "**E2.8**\n",
        "\n",
        "Reverse a text."
      ]
    },
    {
      "cell_type": "code",
      "execution_count": null,
      "metadata": {
        "colab": {
          "base_uri": "https://localhost:8080/",
          "height": 56
        },
        "id": "T2Vx_LZ-bsdb",
        "outputId": "a91c48ee-a3eb-4150-950f-b702661d6854"
      },
      "outputs": [
        {
          "data": {
            "application/vnd.google.colaboratory.intrinsic+json": {
              "type": "string"
            },
            "text/plain": [
              "'racecar'"
            ]
          },
          "execution_count": 39,
          "metadata": {},
          "output_type": "execute_result"
        }
      ],
      "source": [
        "# Provide your solution here\n",
        "\n",
        "# def reverseText(text):\n",
        "# ...\n",
        "\n",
        "reverseText(\"racecar\")"
      ]
    },
    {
      "cell_type": "markdown",
      "metadata": {
        "id": "49nJPAtg7ZZj"
      },
      "source": [
        "> What are the time and space complexities?\n",
        ">\n",
        "> Time: ?\n",
        ">\n",
        "> Space: ?"
      ]
    },
    {
      "cell_type": "markdown",
      "metadata": {
        "id": "Qtzyg_0f7SPI"
      },
      "source": [
        "**E2.9**\n",
        "\n",
<<<<<<< HEAD:session2/BDA_Race_lab_questions.ipynb
        "Can you reverse the text using in-place swapping?"
      ]
=======
        "If you did not do it already, can you reverse the text using in-place swapping?"
      ],
      "metadata": {
        "id": "Qtzyg_0f7SPI"
      }
>>>>>>> dcbc04efad3874df150674e4c5dba26e2fee3b38:session2/BDA_lab2_race_questions.ipynb
    },
    {
      "cell_type": "code",
      "execution_count": 17,
      "metadata": {
        "colab": {
          "base_uri": "https://localhost:8080/"
        },
        "id": "fCbOs5mD7BbT",
        "outputId": "9f9c3719-ae72-4dcb-c64c-c3e02d3d36b0"
      },
<<<<<<< HEAD:session2/BDA_Race_lab_questions.ipynb
=======
      "execution_count": null,
>>>>>>> dcbc04efad3874df150674e4c5dba26e2fee3b38:session2/BDA_lab2_race_questions.ipynb
      "outputs": [
        {
          "name": "stdout",
          "output_type": "stream",
          "text": [
            "racecar\n"
          ]
        }
      ],
      "source": [
        "# def reverseTextSwappings(text):\n",
        "# ...\n",
        "\n",
        "\n",
        "print(reverseTextSwappings(\"racecar\"))\n"
      ]
    },
    {
      "cell_type": "markdown",
      "metadata": {
        "id": "TQY1SG577avg"
      },
      "source": [
        "> What are the time and space complexities?\n",
        ">\n",
        "> Time: ?\n",
        ">\n",
        "> Space: ?"
      ]
    },
    {
      "cell_type": "markdown",
      "metadata": {
        "id": "-FD2pIrOcMXf"
      },
      "source": [
        "**E2.10**\n",
        "\n",
        "Check if two words are palindrome."
      ]
    },
    {
      "cell_type": "code",
      "execution_count": 18,
      "metadata": {
        "colab": {
          "base_uri": "https://localhost:8080/"
        },
        "id": "YXsSyqqghVZ1",
        "outputId": "6847525b-2233-423a-cae8-87808dbcf543"
      },
      "outputs": [
        {
          "name": "stdout",
          "output_type": "stream",
          "text": [
            "True\n",
            "False\n"
          ]
        }
      ],
      "source": [
        "# Provide your solution here\n",
        "\n",
        "# def checkPalindrome(word1,word2):\n",
        "# ...\n",
        "\n",
        "print(checkPalindrome('civic','civic'))\n",
        "print(checkPalindrome('abc','abc'))"
<<<<<<< HEAD:session2/BDA_Race_lab_questions.ipynb
=======
      ],
      "metadata": {
        "colab": {
          "base_uri": "https://localhost:8080/"
        },
        "id": "YXsSyqqghVZ1",
        "outputId": "6847525b-2233-423a-cae8-87808dbcf543"
      },
      "execution_count": null,
      "outputs": [
        {
          "output_type": "stream",
          "name": "stdout",
          "text": [
            "True\n",
            "False\n"
          ]
        }
>>>>>>> dcbc04efad3874df150674e4c5dba26e2fee3b38:session2/BDA_lab2_race_questions.ipynb
      ]
    },
    {
      "cell_type": "markdown",
      "metadata": {
        "id": "6qo7nz1R8Jd1"
      },
      "source": [
        "# Exercises group 3"
      ]
    },
    {
      "cell_type": "markdown",
      "metadata": {
        "id": "6BopbA8pi9XS"
      },
      "source": [
        "**Binary Search**\n",
        "\n",
        "Develop the binary search function."
      ]
    },
    {
      "cell_type": "code",
      "execution_count": null,
      "metadata": {
        "colab": {
          "base_uri": "https://localhost:8080/"
        },
        "id": "8WmjM-Zti_4Q",
        "outputId": "ad7530e7-a9a6-460e-b8a3-f46c6236dd48"
      },
      "outputs": [
        {
          "name": "stdout",
          "output_type": "stream",
          "text": [
            "4\n"
          ]
        }
      ],
      "source": [
        "# Provide your solution here\n",
        "\n",
        "# def binary_search(arr, target):\n",
        "# ...\n",
        "\n",
        "\n",
        "arr = [2, 3, 5, 7, 11, 13, 17, 19]\n",
        "target = 11\n",
        "result = binary_search(arr, target)\n",
        "print(result)"
      ]
    },
    {
      "cell_type": "markdown",
      "metadata": {
        "id": "w9YqwaHmjQDZ"
      },
      "source": [
        "> What are the time and space complexities?\n",
        ">\n",
        "> Time: ?\n",
        ">\n",
        "> Space: ?"
      ]
    },
    {
      "cell_type": "markdown",
      "metadata": {
        "id": "zqr99Pyoj1Rw"
      },
      "source": [
        "**Two sum problem**\n",
        "\n",
        "* Given an array of integers nums and an integer target, return indices of the two numbers such that they add up to target.\n",
        "\n",
        "* You may assume that each input would have exactly one solution, and you may not use the same element twice.\n",
        "\n",
        "* You can return the answer in any order.\n",
        "\n",
        "(Google interview question)"
      ]
    },
    {
      "cell_type": "code",
      "execution_count": null,
      "metadata": {
        "colab": {
          "base_uri": "https://localhost:8080/"
        },
        "id": "PUaLkqwLj3DT",
        "outputId": "f940ba49-7ee4-4e7e-e458-59f41030aa2a"
      },
      "outputs": [
        {
          "data": {
            "text/plain": [
              "[0, 1]"
            ]
          },
          "execution_count": 73,
          "metadata": {},
          "output_type": "execute_result"
        }
      ],
      "source": [
        "# Provide your solution here\n",
        "\n",
        "# def twoSumBruteForce(nums, target):\n",
        "# ...\n",
        "\n",
        "twoSumBruteForce([2,7,11,15],9)"
      ]
    },
    {
      "cell_type": "markdown",
      "metadata": {
        "id": "VmvMEvofkzOw"
      },
      "source": [
        "**Hasm map**\n",
        "\n",
        "* Hint!\n",
        "\n",
        "Use a set to store values as you go."
      ]
    },
    {
      "cell_type": "code",
      "execution_count": null,
      "metadata": {
        "colab": {
          "base_uri": "https://localhost:8080/"
        },
        "id": "42RftF8YkNTm",
        "outputId": "00b41de9-3b28-4f30-ba18-efe4e0d75dca"
      },
      "outputs": [
        {
          "data": {
            "text/plain": [
              "[0, 1]"
            ]
          },
          "execution_count": 80,
          "metadata": {},
          "output_type": "execute_result"
        }
      ],
      "source": [
        "# Provide your solution here\n",
        "\n",
        "# def twoSumHash(nums, target):\n",
        "# ...\n",
        "\n",
        "twoSumHash([2,7,11,15],9)"
      ]
    },
    {
      "cell_type": "markdown",
      "metadata": {
        "id": "T8gT8-krk5OM"
      },
      "source": [
        "Time Complexity: O(n), This approach iterates over the array only once, and for each element, it checks whether its complement exists in the hash map. The insertion and lookup time for a hash map is O(1) on average, so the overall time complexity for traversing the array once is O(n).\n",
        "\n",
        "Space Complexity: O(n), Similar to the Two-Pass Hash Table Approach, a hash map is used to store the elements and their indices. The space complexity is O(n) as the space required for the hash map grows with the number of elements in the array."
      ]
    },
    {
      "cell_type": "markdown",
      "metadata": {
        "id": "crRgG5TgoGek"
      },
      "source": [
        "**List to frequency dictionary**\n",
        "\n"
      ]
    },
    {
      "cell_type": "markdown",
      "metadata": {
        "id": "v1gmuyZypmi8"
      },
      "source": [
        "Given an unsorted list of some elements(which may or may not be integers), find the frequency of each distinct element in the list using a dictionary."
      ]
    },
    {
      "cell_type": "code",
      "execution_count": null,
      "metadata": {
        "colab": {
          "base_uri": "https://localhost:8080/"
        },
        "id": "EB7W3IVeoLol",
        "outputId": "1d3a579a-fdcb-4120-980f-eafff490d01d"
      },
      "outputs": [
        {
          "name": "stdout",
          "output_type": "stream",
          "text": [
            "{10: 2, 20: 3, 30: 1}\n"
          ]
        }
      ],
      "source": [
        "alist = [10,10,20,20,20,30]\n",
        "freq = {}\n",
        "\n",
        "# Provide your solution here\n",
        "\n",
        "print(freq)\n"
      ]
    },
    {
      "cell_type": "markdown",
      "metadata": {
        "id": "k2hzLDyzpwmj"
      },
      "source": [
        "> What are the time and space complexities?\n",
        ">\n",
        "> Time: ?\n",
        ">\n",
        "> Space: ?"
      ]
    }
  ],
  "metadata": {
    "colab": {
      "collapsed_sections": [
        "3QAw6qes0Y4m",
        "lcFbzckV0rh0"
      ],
      "provenance": []
    },
    "kernelspec": {
      "display_name": "Python 3",
      "name": "python3"
    },
    "language_info": {
      "name": "python"
    }
  },
  "nbformat": 4,
  "nbformat_minor": 0
}
